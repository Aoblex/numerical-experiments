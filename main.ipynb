{
 "cells": [
  {
   "cell_type": "markdown",
   "metadata": {},
   "source": [
    "# Selecting Sinkhorn OT Solutions"
   ]
  },
  {
   "cell_type": "code",
   "execution_count": null,
   "metadata": {},
   "outputs": [],
   "source": [
    "from ot.experiments import OTsolver\n",
    "from typing import List\n",
    "import regot\n",
    "\n",
    "FORCE_RERUN = False\n",
    "\n",
    "# palette: https://colorhunt.co/palettes/random\n",
    "# color picker: https://www.w3schools.com/colors/colors_picker.asp\n",
    "#               https://htmlcolorcodes.com/color-picker \n",
    "\n",
    "def get_solvers(reg, max_iter, tol, selected: None | List[str] = None) -> List:\n",
    "    sinkhorn_bcd = OTsolver(method=regot.sinkhorn_bcd, method_name='BCD',\n",
    "                            color='#c44e52', linestyle=(0, (3, 1, 2, 1)),\n",
    "                            reg=reg, max_iter=max_iter, tol=tol)\n",
    "    sinkhorn_apdagd = OTsolver(method=regot.sinkhorn_apdagd, method_name='APDAGD',\n",
    "                            color='#937860', linestyle=(0, (2, 2)),\n",
    "                            reg=reg, max_iter=max_iter, tol=tol)\n",
    "    sinkhorn_lbfgs_dual = OTsolver(method=regot.sinkhorn_lbfgs_dual, method_name='LBFGS-Dual',\n",
    "                                color='#ff8000', linestyle=(0, (3, 1)),\n",
    "                                reg=reg, max_iter=max_iter, tol=tol)\n",
    "    sinkhorn_newton = OTsolver(method=regot.sinkhorn_newton, method_name='Newton',\n",
    "                            color='#da8bc3', linestyle=(0, (4, 2, 1, 2)),\n",
    "                            reg=reg, max_iter=max_iter, tol=tol)\n",
    "    sinkhorn_ssns = OTsolver(method=regot.sinkhorn_ssns, method_name='SSNS', shift=1e-6,\n",
    "                            color='#55a868', linestyle=(0, (2, 1)),\n",
    "                            reg=reg, max_iter=max_iter, tol=tol)\n",
    "    sinkhorn_sparse_newton = OTsolver(method=regot.sinkhorn_sparse_newton, method_name='Sparse Newton', shift=1e-6,\n",
    "                                    color='#e6a682', linestyle=(0, (1, 1)),\n",
    "                                    reg=reg, max_iter=max_iter, tol=tol)\n",
    "    sinkhorn_splr = OTsolver(method=regot.sinkhorn_splr, method_name='SPLR', density=0.01, shift=1e-6,\n",
    "                            color='#4c72b0', linestyle='solid',\n",
    "                            reg=reg, max_iter=max_iter, tol=tol)\n",
    "\n",
    "    all_solvers = {\n",
    "        'BCD': sinkhorn_bcd,\n",
    "        'APDAGD': sinkhorn_apdagd,\n",
    "        'LBFGS-Dual': sinkhorn_lbfgs_dual,\n",
    "        'Newton': sinkhorn_newton,\n",
    "        'SSNS': sinkhorn_ssns,\n",
    "        'Sparse Newton': sinkhorn_sparse_newton,\n",
    "        'SPLR': sinkhorn_splr,\n",
    "    }\n",
    "\n",
    "    if selected is not None:\n",
    "        return [v for k, v in all_solvers.items() if k in selected]\n",
    "    else:\n",
    "        return all_solvers.values()\n",
    "\n"
   ]
  },
  {
   "cell_type": "markdown",
   "metadata": {},
   "source": [
    "# MNIST"
   ]
  },
  {
   "cell_type": "code",
   "execution_count": null,
   "metadata": {},
   "outputs": [],
   "source": [
    "from ot.datasets import MnistOT\n",
    "from ot.experiments import OTtask\n",
    "\n",
    "# reg_list = [0.001, 0.01]\n",
    "# norm_list = ['l1', 'l2']\n",
    "reg_list = [0.001]\n",
    "norm_list = ['l1']\n",
    "max_iter, tol = 500, 1e-6\n",
    "\n",
    "mnist_methods = [\n",
    "    'BCD', 'APDAGD', # first-order methods\n",
    "    'LBFGS-Dual', 'Newton', # second-order methods\n",
    "    'SSNS', # sparse method\n",
    "    'SPLR', # new methods\n",
    "]\n",
    "\n",
    "for reg in reg_list:\n",
    "    for norm in norm_list:\n",
    "        # Solving the MNIST OT problem\n",
    "        mnist_ot_problem = MnistOT(reg=reg, distance=norm)\n",
    "        mnist_solvers = get_solvers(reg=reg, max_iter=max_iter, tol=tol,\n",
    "                                    selected=mnist_methods)\n",
    "        mnist_task = OTtask(problem=mnist_ot_problem, solvers=mnist_solvers)\n",
    "        mnist_task.plot_for_problem(x_key='iterations', x_label='Iteration Number', y_label='Log10 Gradient Norm',\n",
    "                                    force_rerun=FORCE_RERUN, selected_methods=mnist_methods)\n",
    "        mnist_task.plot_for_problem(x_key='run_times', x_label='Run time(seconds)', y_label='Log10 Gradient Norm',\n",
    "                                    force_rerun=FORCE_RERUN, selected_methods=mnist_methods)"
   ]
  },
  {
   "cell_type": "markdown",
   "metadata": {},
   "source": [
    "# Fashion MNIST"
   ]
  },
  {
   "cell_type": "code",
   "execution_count": null,
   "metadata": {},
   "outputs": [],
   "source": [
    "from ot.datasets import FashionMnistOT\n",
    "from ot.experiments import OTtask\n",
    "\n",
    "# reg_list = [0.001, 0.01]\n",
    "# norm_list = ['l1', 'l2']\n",
    "reg_list = [0.001]\n",
    "norm_list = ['l1']\n",
    "max_iter, tol = 500, 1e-6\n",
    "\n",
    "fashion_mnist_methods = [\n",
    "    'BCD', 'APDAGD', # first-order methods\n",
    "    'LBFGS-Dual', 'Newton', # second-order methods\n",
    "    'SSNS', # sparse method\n",
    "    'SPLR', # new methods\n",
    "]\n",
    "\n",
    "for reg in reg_list:\n",
    "    for norm in norm_list:\n",
    "        # Solving the MNIST OT problem\n",
    "        fashion_mnist_ot_problem = FashionMnistOT(reg=reg, distance=norm)\n",
    "        fashion_mnist_solvers = get_solvers(reg=reg, max_iter=max_iter, tol=tol,\n",
    "                                            selected=fashion_mnist_methods)\n",
    "        fashion_mnist_task = OTtask(problem=fashion_mnist_ot_problem, solvers=fashion_mnist_solvers)\n",
    "        fashion_mnist_task.plot_for_problem(x_key='iterations', x_label='Iteration Number', y_label='Log10 Gradient Norm',\n",
    "                                            force_rerun=FORCE_RERUN, selected_methods=fashion_mnist_methods)\n",
    "        fashion_mnist_task.plot_for_problem(x_key='run_times', x_label='Run time(seconds)', y_label='Log10 Gradient Norm',\n",
    "                                            force_rerun=FORCE_RERUN, selected_methods=fashion_mnist_methods)\n"
   ]
  },
  {
   "cell_type": "markdown",
   "metadata": {},
   "source": [
    "# Imagenette"
   ]
  },
  {
   "cell_type": "code",
   "execution_count": null,
   "metadata": {},
   "outputs": [],
   "source": [
    "from ot.datasets import ImagenetteOT\n",
    "from ot.experiments import OTtask\n",
    "\n",
    "# reg_list = [0.001, 0.01]\n",
    "# norm_list = ['l1', 'l2']\n",
    "reg_list = [0.001]\n",
    "norm_list = ['l1']\n",
    "max_iter, tol = 500, 1e-6\n",
    "\n",
    "imagenette_methods = [\n",
    "    'BCD', 'APDAGD', # first-order methods\n",
    "    'LBFGS-Dual', 'Newton', # second-order methods\n",
    "    'SSNS', # sparse method\n",
    "    'SPLR' # new methods\n",
    "]\n",
    "\n",
    "for reg in reg_list:\n",
    "    for norm in norm_list:\n",
    "        # Solving the Imagenette OT problem\n",
    "        imagenette_ot_problem = ImagenetteOT(reg=reg, distance=norm)\n",
    "        imagenette_solvers = get_solvers(reg=reg, max_iter=max_iter, tol=tol,\n",
    "                                         selected=imagenette_methods)\n",
    "        imagenette_task = OTtask(problem=imagenette_ot_problem, solvers=imagenette_solvers)\n",
    "        imagenette_task.plot_for_problem(x_key='iterations', x_label='Iteration Number', y_label='Log10 Gradient Norm',\n",
    "                                         force_rerun=FORCE_RERUN, selected_methods=imagenette_methods)\n",
    "        imagenette_task.plot_for_problem(x_key='run_times', x_label='Run time(seconds)', y_label='Log10 Gradient Norm',\n",
    "                                         force_rerun=FORCE_RERUN, selected_methods=imagenette_methods)\n"
   ]
  },
  {
   "cell_type": "markdown",
   "metadata": {},
   "source": [
    "# Synthetic Data Experiments"
   ]
  },
  {
   "cell_type": "markdown",
   "metadata": {},
   "source": [
    "## Synthetic I"
   ]
  },
  {
   "cell_type": "markdown",
   "metadata": {},
   "source": [
    "### n = m = 1000"
   ]
  },
  {
   "cell_type": "code",
   "execution_count": null,
   "metadata": {},
   "outputs": [],
   "source": [
    "from ot.datasets import Synthetic1OT\n",
    "from ot.experiments import OTtask\n",
    "\n",
    "reg_list = [0.001]\n",
    "problem_size = 1000\n",
    "max_iter, tol = 500, 1e-6\n",
    "\n",
    "synthetic1_1000_methods = [\n",
    "    'BCD', 'APDAGD', # first-order methods\n",
    "    'LBFGS-Dual', 'Newton', # second-order methods\n",
    "    'SSNS', # sparse method\n",
    "    'SPLR' # new methods\n",
    "]\n",
    "\n",
    "for reg in reg_list:\n",
    "    # Solving the Synthetic1 OT problem\n",
    "    synthetic1_ot_problem = Synthetic1OT(\n",
    "        n=problem_size,\n",
    "        m=problem_size,\n",
    "        reg=reg,\n",
    "    )\n",
    "    synthetic1_solvers = get_solvers(reg=reg, max_iter=max_iter, tol=tol,\n",
    "                                     selected=synthetic1_1000_methods)\n",
    "    synthetic1_task = OTtask(problem=synthetic1_ot_problem, solvers=synthetic1_solvers)\n",
    "    synthetic1_task.plot_for_problem(x_key='iterations', x_label='Iteration Number', y_label='Log10 Gradient Norm',\n",
    "                                     force_rerun=FORCE_RERUN, selected_methods=synthetic1_1000_methods)\n",
    "    synthetic1_task.plot_for_problem(x_key='run_times', x_label='Run time(seconds)', y_label='Log10 Gradient Norm',\n",
    "                                     force_rerun=FORCE_RERUN, selected_methods=synthetic1_1000_methods)"
   ]
  },
  {
   "cell_type": "markdown",
   "metadata": {},
   "source": [
    "### n = m = 5000"
   ]
  },
  {
   "cell_type": "code",
   "execution_count": null,
   "metadata": {},
   "outputs": [],
   "source": [
    "from ot.datasets import Synthetic1OT\n",
    "from ot.experiments import OTtask\n",
    "\n",
    "reg_list = [0.001]\n",
    "problem_size = 5000\n",
    "max_iter, tol = 500, 1e-6\n",
    "\n",
    "synthetic1_5000_methods = [\n",
    "    'BCD', # first-order methods\n",
    "    'LBFGS-Dual', # second-order methods\n",
    "    'SSNS', # sparse method\n",
    "    'SPLR' # new methods\n",
    "]\n",
    "\n",
    "for reg in reg_list:\n",
    "    # Solving the Synthetic1 OT problem\n",
    "    synthetic1_ot_problem = Synthetic1OT(\n",
    "        n=problem_size,\n",
    "        m=problem_size,\n",
    "        reg=reg,\n",
    "    )\n",
    "    synthetic1_solvers = get_solvers(reg=reg, max_iter=max_iter, tol=tol,\n",
    "                                     selected=synthetic1_5000_methods)\n",
    "    synthetic1_task = OTtask(problem=synthetic1_ot_problem, solvers=synthetic1_solvers)\n",
    "    synthetic1_task.plot_for_problem(x_key='iterations', x_label='Iteration Number', y_label='Log10 Gradient Norm',\n",
    "                                     force_rerun=FORCE_RERUN, selected_methods=synthetic1_5000_methods)\n",
    "    synthetic1_task.plot_for_problem(x_key='run_times', x_label='Run time(seconds)', y_label='Log10 Gradient Norm',\n",
    "                                     force_rerun=FORCE_RERUN, selected_methods=synthetic1_5000_methods)"
   ]
  },
  {
   "cell_type": "markdown",
   "metadata": {},
   "source": [
    "### n = m = 10000"
   ]
  },
  {
   "cell_type": "code",
   "execution_count": null,
   "metadata": {},
   "outputs": [],
   "source": [
    "from ot.datasets import Synthetic1OT\n",
    "from ot.experiments import OTtask\n",
    "\n",
    "reg_list = [0.001]\n",
    "problem_size = 10000\n",
    "max_iter, tol = 500, 1e-6\n",
    "\n",
    "synthetic1_10000_methods = [\n",
    "    'BCD', # first-order methods\n",
    "    'LBFGS-Dual', # second-order methods\n",
    "    'SSNS', # sparse method\n",
    "    'SPLR' # new methods\n",
    "]\n",
    "\n",
    "for reg in reg_list:\n",
    "    # Solving the Synthetic1 OT problem\n",
    "    synthetic1_ot_problem = Synthetic1OT(\n",
    "        n=problem_size,\n",
    "        m=problem_size,\n",
    "        reg=reg,\n",
    "    )\n",
    "    synthetic1_solvers = get_solvers(reg=reg, max_iter=max_iter, tol=tol,\n",
    "                                     selected=synthetic1_10000_methods)\n",
    "    synthetic1_task = OTtask(problem=synthetic1_ot_problem, solvers=synthetic1_solvers)\n",
    "    synthetic1_task.plot_for_problem(x_key='iterations', x_label='Iteration Number', y_label='Log10 Gradient Norm',\n",
    "                                     force_rerun=FORCE_RERUN, selected_methods=synthetic1_10000_methods)\n",
    "    synthetic1_task.plot_for_problem(x_key='run_times', x_label='Run time(seconds)', y_label='Log10 Gradient Norm',\n",
    "                                     force_rerun=FORCE_RERUN, selected_methods=synthetic1_10000_methods)"
   ]
  },
  {
   "cell_type": "markdown",
   "metadata": {},
   "source": [
    "## Synthetic II"
   ]
  },
  {
   "cell_type": "markdown",
   "metadata": {},
   "source": [
    "### n = m = 1000"
   ]
  },
  {
   "cell_type": "code",
   "execution_count": null,
   "metadata": {},
   "outputs": [],
   "source": [
    "from ot.datasets import Synthetic2OT\n",
    "from ot.experiments import OTtask\n",
    "\n",
    "reg_list = [0.001]\n",
    "problem_size = 1000\n",
    "max_iter, tol = 500, 1e-6\n",
    "\n",
    "synthetic2_1000_methods = [\n",
    "    'BCD', 'APDAGD', # first-order methods\n",
    "    'LBFGS-Dual', 'Newton', # second-order methods\n",
    "    'SSNS', # sparse method\n",
    "    'SPLR' # new methods\n",
    "]\n",
    "\n",
    "for reg in reg_list:\n",
    "    # Solving the Synthetic1 OT problem\n",
    "    synthetic2_ot_problem = Synthetic2OT(\n",
    "        n=problem_size,\n",
    "        m=problem_size,\n",
    "        reg=reg,\n",
    "    )\n",
    "    synthetic2_solvers = get_solvers(reg=reg, max_iter=max_iter, tol=tol,\n",
    "                                     selected=synthetic2_1000_methods)\n",
    "    synthetic2_task = OTtask(problem=synthetic2_ot_problem, solvers=synthetic2_solvers)\n",
    "    synthetic2_task.plot_for_problem(x_key='iterations', x_label='Iteration Number', y_label='Log10 Gradient Norm',\n",
    "                                     force_rerun=FORCE_RERUN, selected_methods=synthetic2_1000_methods)\n",
    "    synthetic2_task.plot_for_problem(x_key='run_times', x_label='Run time(seconds)', y_label='Log10 Gradient Norm',\n",
    "                                     force_rerun=FORCE_RERUN, selected_methods=synthetic2_1000_methods)"
   ]
  },
  {
   "cell_type": "markdown",
   "metadata": {},
   "source": [
    "### n = m = 5000"
   ]
  },
  {
   "cell_type": "code",
   "execution_count": null,
   "metadata": {},
   "outputs": [],
   "source": [
    "from ot.datasets import Synthetic2OT\n",
    "from ot.experiments import OTtask\n",
    "\n",
    "reg_list = [0.001]\n",
    "problem_size = 5000\n",
    "max_iter, tol = 500, 1e-6\n",
    "\n",
    "synthetic2_5000_methods = [\n",
    "    'BCD', # first-order methods\n",
    "    'LBFGS-Dual', # second-order methods\n",
    "    'SSNS', # sparse method\n",
    "    'SPLR' # new methods\n",
    "]\n",
    "\n",
    "for reg in reg_list:\n",
    "    # Solving the Synthetic1 OT problem\n",
    "    synthetic2_ot_problem = Synthetic2OT(\n",
    "        n=problem_size,\n",
    "        m=problem_size,\n",
    "        reg=reg,\n",
    "    )\n",
    "    synthetic2_solvers = get_solvers(reg=reg, max_iter=max_iter, tol=tol,\n",
    "                                     selected=synthetic2_5000_methods)\n",
    "    synthetic2_task = OTtask(problem=synthetic2_ot_problem, solvers=synthetic2_solvers)\n",
    "    synthetic2_task.plot_for_problem(x_key='iterations', x_label='Iteration Number', y_label='Log10 Gradient Norm',\n",
    "                                     force_rerun=FORCE_RERUN, selected_methods=synthetic1_5000_methods)\n",
    "    synthetic2_task.plot_for_problem(x_key='run_times', x_label='Run time(seconds)', y_label='Log10 Gradient Norm',\n",
    "                                     force_rerun=FORCE_RERUN, selected_methods=synthetic2_5000_methods)"
   ]
  },
  {
   "cell_type": "markdown",
   "metadata": {},
   "source": [
    "### n = m = 10000"
   ]
  },
  {
   "cell_type": "code",
   "execution_count": null,
   "metadata": {},
   "outputs": [],
   "source": [
    "from ot.datasets import Synthetic2OT\n",
    "from ot.experiments import OTtask\n",
    "\n",
    "reg_list = [0.001]\n",
    "problem_size = 10000\n",
    "max_iter, tol = 500, 1e-6\n",
    "\n",
    "synthetic2_10000_methods = [\n",
    "    'BCD', # first-order methods\n",
    "    'LBFGS-Dual', # second-order methods\n",
    "    'SSNS', # sparse method\n",
    "    'SPLR' # new methods\n",
    "]\n",
    "\n",
    "for reg in reg_list:\n",
    "    # Solving the Synthetic1 OT problem\n",
    "    synthetic2_ot_problem = Synthetic2OT(\n",
    "        n=problem_size,\n",
    "        m=problem_size,\n",
    "        reg=reg,\n",
    "    )\n",
    "    synthetic2_solvers = get_solvers(reg=reg, max_iter=max_iter, tol=tol,\n",
    "                                     selected=synthetic2_10000_methods)\n",
    "    synthetic2_task = OTtask(problem=synthetic2_ot_problem, solvers=synthetic2_solvers)\n",
    "    synthetic2_task.plot_for_problem(x_key='iterations', x_label='Iteration Number', y_label='Log10 Gradient Norm',\n",
    "                                     force_rerun=FORCE_RERUN, selected_methods=synthetic2_10000_methods)\n",
    "    synthetic2_task.plot_for_problem(x_key='run_times', x_label='Run time(seconds)', y_label='Log10 Gradient Norm',\n",
    "                                     force_rerun=FORCE_RERUN, selected_methods=synthetic2_10000_methods)"
   ]
  }
 ],
 "metadata": {
  "kernelspec": {
   "display_name": "num",
   "language": "python",
   "name": "python3"
  },
  "language_info": {
   "codemirror_mode": {
    "name": "ipython",
    "version": 3
   },
   "file_extension": ".py",
   "mimetype": "text/x-python",
   "name": "python",
   "nbconvert_exporter": "python",
   "pygments_lexer": "ipython3",
   "version": "3.13.2"
  }
 },
 "nbformat": 4,
 "nbformat_minor": 2
}
