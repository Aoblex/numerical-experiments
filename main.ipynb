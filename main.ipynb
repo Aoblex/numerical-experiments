{
 "cells": [
  {
   "cell_type": "code",
   "execution_count": null,
   "metadata": {},
   "outputs": [],
   "source": [
    "from ot.datasets import (\n",
    "    MnistOT, FashionMnistOT, ImagenetteOT,\n",
    "    Synthetic1OT, Synthetic2OT\n",
    ")\n",
    "\n",
    "mnist_ot = MnistOT(\n",
    "    source_idx=2, target_idx=54698\n",
    ")\n",
    "\n",
    "fashion_mnist_ot = FashionMnistOT(\n",
    "    source_idx=2, target_idx=54698\n",
    ")\n",
    "\n",
    "imagenette_ot = ImagenetteOT(\n",
    "    source_classname='tench',\n",
    "    target_classname='cassette player'\n",
    ")\n",
    "\n",
    "synthetic1_ot = Synthetic1OT(n=10, m=12)\n",
    "synthetic2_ot = Synthetic2OT(n=10, m=12)"
   ]
  },
  {
   "cell_type": "code",
   "execution_count": 6,
   "metadata": {},
   "outputs": [],
   "source": [
    "from ot.experiments import OTsolver\n",
    "import regot\n",
    "\n",
    "kwargs = {\"reg\": 0.001, \"max_iter\": 1000, \"tol\": 1e-6}\n",
    "sinkhorn_bcd = OTsolver(method=regot.sinkhorn_bcd, method_name='BCD', **kwargs)\n",
    "sinkhorn_apdagd = OTsolver(method=regot.sinkhorn_apdagd, method_name='APDAGD', **kwargs)\n",
    "sinkhorn_lbfgs_dual = OTsolver(method=regot.sinkhorn_lbfgs_dual, method_name='LBFGS-Dual', **kwargs)\n",
    "sinkhorn_newton = OTsolver(method=regot.sinkhorn_newton, method_name='Newton', **kwargs)\n",
    "sinkhorn_ssns = OTsolver(method=regot.sinkhorn_ssns, method_name='SSNS', shift=1e-6, **kwargs)\n",
    "sinkhorn_sparse_newton = OTsolver(method=regot.sinkhorn_sparse_newton, method_name='Sparse Newton', shift=1e-6, **kwargs)\n",
    "sinkhorn_splr = OTsolver(method=regot.sinkhorn_sparse_newton_low_rank, method_name='SPLR', density=0.01, shift=1e-6, **kwargs)"
   ]
  },
  {
   "cell_type": "code",
   "execution_count": 7,
   "metadata": {},
   "outputs": [],
   "source": [
    "solvers_for_all = [sinkhorn_bcd, sinkhorn_apdagd, sinkhorn_lbfgs_dual, sinkhorn_newton, sinkhorn_ssns, sinkhorn_sparse_newton, sinkhorn_splr]\n",
    "solvers_for_feature = solvers_for_all\n",
    "solvers_for_large_scale = [sinkhorn_bcd, sinkhorn_ssns, sinkhorn_sparse_newton, sinkhorn_splr]"
   ]
  },
  {
   "cell_type": "code",
   "execution_count": null,
   "metadata": {},
   "outputs": [],
   "source": [
    "reg = 0.001\n",
    "distance = 'l2'\n",
    "\n",
    "mnist_ot_settings = {\n",
    "    \"source_idx\": 2,\n",
    "    \"target_idx\": 54698,\n",
    "    \"reg\": reg,\n",
    "    \"distance\": distance,\n",
    "}\n",
    "\n",
    "fashion_mnist_ot_settings = {\n",
    "    \"source_idx\": 2,\n",
    "    \"target_idx\": 54698,\n",
    "    \"reg\": reg,\n",
    "    \"distance\": distance,\n",
    "}\n",
    "\n",
    "imagenette_ot_settings = {\n",
    "    \"source_classname\": 'tench',\n",
    "    \"target_classname\": 'cassette player',\n",
    "    \"reg\": reg,\n",
    "    \"distance\": distance,\n",
    "    \"dim\": 30,\n",
    "}\n",
    "\n",
    "mnist_ot_problem = MnistOT(**mnist_ot_settings)\n",
    "fashion_mnist_ot_problem = FashionMnistOT(**fashion_mnist_ot_settings)\n",
    "imagenette_ot_problem = ImagenetteOT(**imagenette_ot_settings)"
   ]
  },
  {
   "cell_type": "code",
   "execution_count": null,
   "metadata": {},
   "outputs": [],
   "source": [
    "from ot.experiments import OTtask\n",
    "\n",
    "concerned_problems = [\n",
    "    mnist_ot_problem,\n",
    "    fashion_mnist_ot_problem,\n",
    "    imagenette_ot_problem,\n",
    "]\n",
    "\n",
    "task = OTtask(problems=concerned_problems, solvers=solvers_for_all)\n",
    "\n",
    "results = task.run(save_results=True, force_rerun=False)"
   ]
  }
 ],
 "metadata": {
  "kernelspec": {
   "display_name": "num",
   "language": "python",
   "name": "python3"
  },
  "language_info": {
   "codemirror_mode": {
    "name": "ipython",
    "version": 3
   },
   "file_extension": ".py",
   "mimetype": "text/x-python",
   "name": "python",
   "nbconvert_exporter": "python",
   "pygments_lexer": "ipython3",
   "version": "3.12.8"
  }
 },
 "nbformat": 4,
 "nbformat_minor": 2
}
